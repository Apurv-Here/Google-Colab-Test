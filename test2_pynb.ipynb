{
  "nbformat": 4,
  "nbformat_minor": 0,
  "metadata": {
    "colab": {
      "provenance": [],
      "authorship_tag": "ABX9TyOcDiOtLnBmCSsHIA22cEah",
      "include_colab_link": true
    },
    "kernelspec": {
      "name": "python3",
      "display_name": "Python 3"
    },
    "language_info": {
      "name": "python"
    }
  },
  "cells": [
    {
      "cell_type": "markdown",
      "metadata": {
        "id": "view-in-github",
        "colab_type": "text"
      },
      "source": [
        "<a href=\"https://colab.research.google.com/github/Apurv-Here/Google-Colab-Test/blob/master/test2_pynb.ipynb\" target=\"_parent\"><img src=\"https://colab.research.google.com/assets/colab-badge.svg\" alt=\"Open In Colab\"/></a>"
      ]
    },
    {
      "cell_type": "code",
      "execution_count": 2,
      "metadata": {
        "colab": {
          "base_uri": "https://localhost:8080/"
        },
        "id": "TBuKjxwquK53",
        "outputId": "062f9da8-64d9-45d2-9722-30b53f7b12a1"
      },
      "outputs": [
        {
          "output_type": "stream",
          "name": "stdout",
          "text": [
            "this is the print statement for second colab\n"
          ]
        }
      ],
      "source": [
        "print(\"this is the print statement for second colab\");"
      ]
    },
    {
      "cell_type": "markdown",
      "source": [
        "`This is a sample text for test2`\n",
        "\n",
        "**This is another sample text for text2**"
      ],
      "metadata": {
        "id": "reyzBv0CuYKE"
      }
    }
  ]
}