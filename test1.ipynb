{
  "nbformat": 4,
  "nbformat_minor": 0,
  "metadata": {
    "colab": {
      "provenance": [],
      "authorship_tag": "ABX9TyO5sVWhkxduhK7ymk7/aTcz",
      "include_colab_link": true
    },
    "kernelspec": {
      "name": "python3",
      "display_name": "Python 3"
    },
    "language_info": {
      "name": "python"
    },
    "accelerator": "GPU",
    "gpuClass": "standard"
  },
  "cells": [
    {
      "cell_type": "markdown",
      "metadata": {
        "id": "view-in-github",
        "colab_type": "text"
      },
      "source": [
        "<a href=\"https://colab.research.google.com/github/Apurv-Here/Google-Colab-Test/blob/master/test1.ipynb\" target=\"_parent\"><img src=\"https://colab.research.google.com/assets/colab-badge.svg\" alt=\"Open In Colab\"/></a>"
      ]
    },
    {
      "cell_type": "code",
      "execution_count": null,
      "metadata": {
        "id": "F_35s41rWkRU"
      },
      "outputs": [],
      "source": [
        "print(\"this is first print statement\");"
      ]
    },
    {
      "cell_type": "markdown",
      "source": [
        "This is sample text"
      ],
      "metadata": {
        "id": "wz20QQhUEx3C"
      }
    },
    {
      "cell_type": "code",
      "source": [
        "print(\"second print line\");"
      ],
      "metadata": {
        "colab": {
          "base_uri": "https://localhost:8080/"
        },
        "id": "JNUR5HWiE1-1",
        "outputId": "d94176ad-6bbc-4c5f-d240-6a8e66c76239"
      },
      "execution_count": 1,
      "outputs": [
        {
          "output_type": "stream",
          "name": "stdout",
          "text": [
            "second print line\n"
          ]
        }
      ]
    },
    {
      "cell_type": "code",
      "source": [
        "print(\"third print line\");"
      ],
      "metadata": {
        "colab": {
          "base_uri": "https://localhost:8080/"
        },
        "id": "DQAmdCl9GVSF",
        "outputId": "41696040-1215-49fe-91a3-4017870b4364"
      },
      "execution_count": 2,
      "outputs": [
        {
          "output_type": "stream",
          "name": "stdout",
          "text": [
            "third print line\n"
          ]
        }
      ]
    }
  ]
}